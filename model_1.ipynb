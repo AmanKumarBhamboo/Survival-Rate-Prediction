{
 "cells": [
  {
   "cell_type": "code",
   "execution_count": 1,
   "id": "cf95f051-a20b-4328-ba6d-9fcccd17baaf",
   "metadata": {},
   "outputs": [],
   "source": [
    "import pandas as pd"
   ]
  },
  {
   "cell_type": "code",
   "execution_count": 4,
   "id": "2569d4d1-1246-47c0-bcf9-3709da48ecb0",
   "metadata": {},
   "outputs": [],
   "source": [
    "from sklearn.model_selection import train_test_split\n",
    "from sklearn.linear_model import LogisticRegression\n",
    "from sklearn.metrics import accuracy_score, classification_report"
   ]
  },
  {
   "cell_type": "code",
   "execution_count": 6,
   "id": "0157fb8e-71cb-41fa-9b52-0c2361b09b3a",
   "metadata": {},
   "outputs": [],
   "source": [
    "df1 = pd.read_csv('df_dropped_values.csv')\n",
    "df2 = pd.read_csv('df_imputated_values.csv')"
   ]
  },
  {
   "cell_type": "code",
   "execution_count": 12,
   "id": "5ad49850-811b-492d-a1c9-5081eb248a1b",
   "metadata": {},
   "outputs": [
    {
     "data": {
      "text/plain": [
       "array([dtype('float64'), dtype('int64'), dtype('bool')], dtype=object)"
      ]
     },
     "execution_count": 12,
     "metadata": {},
     "output_type": "execute_result"
    }
   ],
   "source": [
    "df1.dtypes.unique()"
   ]
  },
  {
   "cell_type": "code",
   "execution_count": 13,
   "id": "c70320ac-7346-4b76-8245-6572c8819ca9",
   "metadata": {},
   "outputs": [
    {
     "data": {
      "text/plain": [
       "array([dtype('float64'), dtype('int64'), dtype('bool')], dtype=object)"
      ]
     },
     "execution_count": 13,
     "metadata": {},
     "output_type": "execute_result"
    }
   ],
   "source": [
    "df2.dtypes.unique()"
   ]
  },
  {
   "cell_type": "code",
   "execution_count": 14,
   "id": "5d068bd2-70c3-4767-95aa-ddb70653b1e9",
   "metadata": {},
   "outputs": [],
   "source": [
    "df1 = df1.astype({col: int for col in df1.select_dtypes('bool').columns})"
   ]
  },
  {
   "cell_type": "code",
   "execution_count": 15,
   "id": "c8bb6eff-ee76-4f3c-a47b-485b58fdb67b",
   "metadata": {},
   "outputs": [],
   "source": [
    "df2 = df2.astype({col: int for col in df2.select_dtypes('bool').columns})"
   ]
  },
  {
   "cell_type": "code",
   "execution_count": null,
   "id": "176b1d6d-c1bc-4015-8ff8-0cfd0613a530",
   "metadata": {},
   "outputs": [],
   "source": []
  }
 ],
 "metadata": {
  "kernelspec": {
   "display_name": "Python 3 (ipykernel)",
   "language": "python",
   "name": "python3"
  },
  "language_info": {
   "codemirror_mode": {
    "name": "ipython",
    "version": 3
   },
   "file_extension": ".py",
   "mimetype": "text/x-python",
   "name": "python",
   "nbconvert_exporter": "python",
   "pygments_lexer": "ipython3",
   "version": "3.13.3"
  }
 },
 "nbformat": 4,
 "nbformat_minor": 5
}
