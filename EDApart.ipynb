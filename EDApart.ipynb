{
 "cells": [
  {
   "cell_type": "code",
   "execution_count": 1,
   "id": "f69e7567-26d1-4906-bbce-685eb44f6085",
   "metadata": {},
   "outputs": [],
   "source": [
    "from pathlib import Path"
   ]
  },
  {
   "cell_type": "code",
   "execution_count": 2,
   "id": "caadf5d0-0686-4b10-a90a-9f157143c76c",
   "metadata": {},
   "outputs": [],
   "source": [
    "# Setting the path \n",
    "data_path = Path('dataset.csv')"
   ]
  },
  {
   "cell_type": "code",
   "execution_count": 3,
   "id": "2643e309-1e83-43a7-a34d-53ee31f8f26f",
   "metadata": {},
   "outputs": [],
   "source": [
    "#Reading the Data and copying of the data to work on named as df\n",
    "import pandas as pd\n",
    "df_original = pd.read_csv(data_path)\n",
    "df= df_original "
   ]
  },
  {
   "cell_type": "code",
   "execution_count": 4,
   "id": "2e94c816-2c4c-4cd0-93a4-2c0ca58702d6",
   "metadata": {},
   "outputs": [
    {
     "data": {
      "text/html": [
       "<div>\n",
       "<style scoped>\n",
       "    .dataframe tbody tr th:only-of-type {\n",
       "        vertical-align: middle;\n",
       "    }\n",
       "\n",
       "    .dataframe tbody tr th {\n",
       "        vertical-align: top;\n",
       "    }\n",
       "\n",
       "    .dataframe thead th {\n",
       "        text-align: right;\n",
       "    }\n",
       "</style>\n",
       "<table border=\"1\" class=\"dataframe\">\n",
       "  <thead>\n",
       "    <tr style=\"text-align: right;\">\n",
       "      <th></th>\n",
       "      <th>encounter_id</th>\n",
       "      <th>patient_id</th>\n",
       "      <th>hospital_id</th>\n",
       "      <th>age</th>\n",
       "      <th>bmi</th>\n",
       "      <th>elective_surgery</th>\n",
       "      <th>ethnicity</th>\n",
       "      <th>gender</th>\n",
       "      <th>height</th>\n",
       "      <th>icu_admit_source</th>\n",
       "      <th>...</th>\n",
       "      <th>diabetes_mellitus</th>\n",
       "      <th>hepatic_failure</th>\n",
       "      <th>immunosuppression</th>\n",
       "      <th>leukemia</th>\n",
       "      <th>lymphoma</th>\n",
       "      <th>solid_tumor_with_metastasis</th>\n",
       "      <th>apache_3j_bodysystem</th>\n",
       "      <th>apache_2_bodysystem</th>\n",
       "      <th>Unnamed: 83</th>\n",
       "      <th>hospital_death</th>\n",
       "    </tr>\n",
       "  </thead>\n",
       "  <tbody>\n",
       "    <tr>\n",
       "      <th>0</th>\n",
       "      <td>66154</td>\n",
       "      <td>25312</td>\n",
       "      <td>118</td>\n",
       "      <td>68.0</td>\n",
       "      <td>22.73</td>\n",
       "      <td>0</td>\n",
       "      <td>Caucasian</td>\n",
       "      <td>M</td>\n",
       "      <td>180.3</td>\n",
       "      <td>Floor</td>\n",
       "      <td>...</td>\n",
       "      <td>1.0</td>\n",
       "      <td>0.0</td>\n",
       "      <td>0.0</td>\n",
       "      <td>0.0</td>\n",
       "      <td>0.0</td>\n",
       "      <td>0.0</td>\n",
       "      <td>Sepsis</td>\n",
       "      <td>Cardiovascular</td>\n",
       "      <td>NaN</td>\n",
       "      <td>0</td>\n",
       "    </tr>\n",
       "    <tr>\n",
       "      <th>1</th>\n",
       "      <td>114252</td>\n",
       "      <td>59342</td>\n",
       "      <td>81</td>\n",
       "      <td>77.0</td>\n",
       "      <td>27.42</td>\n",
       "      <td>0</td>\n",
       "      <td>Caucasian</td>\n",
       "      <td>F</td>\n",
       "      <td>160.0</td>\n",
       "      <td>Floor</td>\n",
       "      <td>...</td>\n",
       "      <td>1.0</td>\n",
       "      <td>0.0</td>\n",
       "      <td>0.0</td>\n",
       "      <td>0.0</td>\n",
       "      <td>0.0</td>\n",
       "      <td>0.0</td>\n",
       "      <td>Respiratory</td>\n",
       "      <td>Respiratory</td>\n",
       "      <td>NaN</td>\n",
       "      <td>0</td>\n",
       "    </tr>\n",
       "    <tr>\n",
       "      <th>2</th>\n",
       "      <td>119783</td>\n",
       "      <td>50777</td>\n",
       "      <td>118</td>\n",
       "      <td>25.0</td>\n",
       "      <td>31.95</td>\n",
       "      <td>0</td>\n",
       "      <td>Caucasian</td>\n",
       "      <td>F</td>\n",
       "      <td>172.7</td>\n",
       "      <td>Accident &amp; Emergency</td>\n",
       "      <td>...</td>\n",
       "      <td>0.0</td>\n",
       "      <td>0.0</td>\n",
       "      <td>0.0</td>\n",
       "      <td>0.0</td>\n",
       "      <td>0.0</td>\n",
       "      <td>0.0</td>\n",
       "      <td>Metabolic</td>\n",
       "      <td>Metabolic</td>\n",
       "      <td>NaN</td>\n",
       "      <td>0</td>\n",
       "    </tr>\n",
       "    <tr>\n",
       "      <th>3</th>\n",
       "      <td>79267</td>\n",
       "      <td>46918</td>\n",
       "      <td>118</td>\n",
       "      <td>81.0</td>\n",
       "      <td>22.64</td>\n",
       "      <td>1</td>\n",
       "      <td>Caucasian</td>\n",
       "      <td>F</td>\n",
       "      <td>165.1</td>\n",
       "      <td>Operating Room / Recovery</td>\n",
       "      <td>...</td>\n",
       "      <td>0.0</td>\n",
       "      <td>0.0</td>\n",
       "      <td>0.0</td>\n",
       "      <td>0.0</td>\n",
       "      <td>0.0</td>\n",
       "      <td>0.0</td>\n",
       "      <td>Cardiovascular</td>\n",
       "      <td>Cardiovascular</td>\n",
       "      <td>NaN</td>\n",
       "      <td>0</td>\n",
       "    </tr>\n",
       "    <tr>\n",
       "      <th>4</th>\n",
       "      <td>92056</td>\n",
       "      <td>34377</td>\n",
       "      <td>33</td>\n",
       "      <td>19.0</td>\n",
       "      <td>NaN</td>\n",
       "      <td>0</td>\n",
       "      <td>Caucasian</td>\n",
       "      <td>M</td>\n",
       "      <td>188.0</td>\n",
       "      <td>Accident &amp; Emergency</td>\n",
       "      <td>...</td>\n",
       "      <td>0.0</td>\n",
       "      <td>0.0</td>\n",
       "      <td>0.0</td>\n",
       "      <td>0.0</td>\n",
       "      <td>0.0</td>\n",
       "      <td>0.0</td>\n",
       "      <td>Trauma</td>\n",
       "      <td>Trauma</td>\n",
       "      <td>NaN</td>\n",
       "      <td>0</td>\n",
       "    </tr>\n",
       "  </tbody>\n",
       "</table>\n",
       "<p>5 rows × 85 columns</p>\n",
       "</div>"
      ],
      "text/plain": [
       "   encounter_id  patient_id  hospital_id   age    bmi  elective_surgery  \\\n",
       "0         66154       25312          118  68.0  22.73                 0   \n",
       "1        114252       59342           81  77.0  27.42                 0   \n",
       "2        119783       50777          118  25.0  31.95                 0   \n",
       "3         79267       46918          118  81.0  22.64                 1   \n",
       "4         92056       34377           33  19.0    NaN                 0   \n",
       "\n",
       "   ethnicity gender  height           icu_admit_source  ...  \\\n",
       "0  Caucasian      M   180.3                      Floor  ...   \n",
       "1  Caucasian      F   160.0                      Floor  ...   \n",
       "2  Caucasian      F   172.7       Accident & Emergency  ...   \n",
       "3  Caucasian      F   165.1  Operating Room / Recovery  ...   \n",
       "4  Caucasian      M   188.0       Accident & Emergency  ...   \n",
       "\n",
       "   diabetes_mellitus hepatic_failure immunosuppression  leukemia  lymphoma  \\\n",
       "0                1.0             0.0               0.0       0.0       0.0   \n",
       "1                1.0             0.0               0.0       0.0       0.0   \n",
       "2                0.0             0.0               0.0       0.0       0.0   \n",
       "3                0.0             0.0               0.0       0.0       0.0   \n",
       "4                0.0             0.0               0.0       0.0       0.0   \n",
       "\n",
       "   solid_tumor_with_metastasis  apache_3j_bodysystem  apache_2_bodysystem  \\\n",
       "0                          0.0                Sepsis       Cardiovascular   \n",
       "1                          0.0           Respiratory          Respiratory   \n",
       "2                          0.0             Metabolic            Metabolic   \n",
       "3                          0.0        Cardiovascular       Cardiovascular   \n",
       "4                          0.0                Trauma               Trauma   \n",
       "\n",
       "   Unnamed: 83  hospital_death  \n",
       "0          NaN               0  \n",
       "1          NaN               0  \n",
       "2          NaN               0  \n",
       "3          NaN               0  \n",
       "4          NaN               0  \n",
       "\n",
       "[5 rows x 85 columns]"
      ]
     },
     "execution_count": 4,
     "metadata": {},
     "output_type": "execute_result"
    }
   ],
   "source": [
    "df.head(5)"
   ]
  },
  {
   "cell_type": "code",
   "execution_count": 5,
   "id": "f9e8d90e-0746-4955-80db-079195860213",
   "metadata": {},
   "outputs": [
    {
     "data": {
      "text/plain": [
       "(91713, 85)"
      ]
     },
     "execution_count": 5,
     "metadata": {},
     "output_type": "execute_result"
    }
   ],
   "source": [
    "df.shape"
   ]
  },
  {
   "cell_type": "code",
   "execution_count": 6,
   "id": "f6d7d498-e05e-4836-a4ef-6eac2ca154f9",
   "metadata": {},
   "outputs": [
    {
     "data": {
      "text/plain": [
       "array([dtype('int64'), dtype('float64'), dtype('O')], dtype=object)"
      ]
     },
     "execution_count": 6,
     "metadata": {},
     "output_type": "execute_result"
    }
   ],
   "source": [
    "df.dtypes.unique()"
   ]
  },
  {
   "cell_type": "markdown",
   "id": "b7c58c9b-20d8-4523-bc4b-341138fb50c6",
   "metadata": {},
   "source": [
    "## Stats part begins"
   ]
  },
  {
   "cell_type": "code",
   "execution_count": 7,
   "id": "d2816b11-7830-4b75-be28-3204f0ad042c",
   "metadata": {},
   "outputs": [
    {
     "data": {
      "text/plain": [
       "Index(['encounter_id', 'patient_id', 'hospital_id', 'age', 'bmi',\n",
       "       'elective_surgery', 'ethnicity', 'gender', 'height', 'icu_admit_source',\n",
       "       'icu_id', 'icu_stay_type', 'icu_type', 'pre_icu_los_days', 'weight',\n",
       "       'apache_2_diagnosis', 'apache_3j_diagnosis', 'apache_post_operative',\n",
       "       'arf_apache', 'gcs_eyes_apache', 'gcs_motor_apache',\n",
       "       'gcs_unable_apache', 'gcs_verbal_apache', 'heart_rate_apache',\n",
       "       'intubated_apache', 'map_apache', 'resprate_apache', 'temp_apache',\n",
       "       'ventilated_apache', 'd1_diasbp_max', 'd1_diasbp_min',\n",
       "       'd1_diasbp_noninvasive_max', 'd1_diasbp_noninvasive_min',\n",
       "       'd1_heartrate_max', 'd1_heartrate_min', 'd1_mbp_max', 'd1_mbp_min',\n",
       "       'd1_mbp_noninvasive_max', 'd1_mbp_noninvasive_min', 'd1_resprate_max',\n",
       "       'd1_resprate_min', 'd1_spo2_max', 'd1_spo2_min', 'd1_sysbp_max',\n",
       "       'd1_sysbp_min', 'd1_sysbp_noninvasive_max', 'd1_sysbp_noninvasive_min',\n",
       "       'd1_temp_max', 'd1_temp_min', 'h1_diasbp_max', 'h1_diasbp_min',\n",
       "       'h1_diasbp_noninvasive_max', 'h1_diasbp_noninvasive_min',\n",
       "       'h1_heartrate_max', 'h1_heartrate_min', 'h1_mbp_max', 'h1_mbp_min',\n",
       "       'h1_mbp_noninvasive_max', 'h1_mbp_noninvasive_min', 'h1_resprate_max',\n",
       "       'h1_resprate_min', 'h1_spo2_max', 'h1_spo2_min', 'h1_sysbp_max',\n",
       "       'h1_sysbp_min', 'h1_sysbp_noninvasive_max', 'h1_sysbp_noninvasive_min',\n",
       "       'd1_glucose_max', 'd1_glucose_min', 'd1_potassium_max',\n",
       "       'd1_potassium_min', 'apache_4a_hospital_death_prob',\n",
       "       'apache_4a_icu_death_prob', 'aids', 'cirrhosis', 'diabetes_mellitus',\n",
       "       'hepatic_failure', 'immunosuppression', 'leukemia', 'lymphoma',\n",
       "       'solid_tumor_with_metastasis', 'apache_3j_bodysystem',\n",
       "       'apache_2_bodysystem', 'Unnamed: 83', 'hospital_death'],\n",
       "      dtype='object')"
      ]
     },
     "execution_count": 7,
     "metadata": {},
     "output_type": "execute_result"
    }
   ],
   "source": [
    "df.columns"
   ]
  },
  {
   "cell_type": "code",
   "execution_count": 8,
   "id": "00ce085a-0bab-4c8d-acbd-973fa4fc6658",
   "metadata": {},
   "outputs": [],
   "source": [
    "# Seeing the columns with null values only:\n",
    "def null_value_column(A):\n",
    "    null_list = []\n",
    "    for col in A.columns:\n",
    "        if A[col].isnull().sum()>0:\n",
    "            null_list.append(col)\n",
    "    return null_list"
   ]
  },
  {
   "cell_type": "code",
   "execution_count": 9,
   "id": "058eefdc-cd96-4df4-9016-589ea1a98c7c",
   "metadata": {},
   "outputs": [
    {
     "data": {
      "text/plain": [
       "['age',\n",
       " 'bmi',\n",
       " 'ethnicity',\n",
       " 'gender',\n",
       " 'height',\n",
       " 'icu_admit_source',\n",
       " 'weight',\n",
       " 'apache_2_diagnosis',\n",
       " 'apache_3j_diagnosis',\n",
       " 'arf_apache',\n",
       " 'gcs_eyes_apache',\n",
       " 'gcs_motor_apache',\n",
       " 'gcs_unable_apache',\n",
       " 'gcs_verbal_apache',\n",
       " 'heart_rate_apache',\n",
       " 'intubated_apache',\n",
       " 'map_apache',\n",
       " 'resprate_apache',\n",
       " 'temp_apache',\n",
       " 'ventilated_apache',\n",
       " 'd1_diasbp_max',\n",
       " 'd1_diasbp_min',\n",
       " 'd1_diasbp_noninvasive_max',\n",
       " 'd1_diasbp_noninvasive_min',\n",
       " 'd1_heartrate_max',\n",
       " 'd1_heartrate_min',\n",
       " 'd1_mbp_max',\n",
       " 'd1_mbp_min',\n",
       " 'd1_mbp_noninvasive_max',\n",
       " 'd1_mbp_noninvasive_min',\n",
       " 'd1_resprate_max',\n",
       " 'd1_resprate_min',\n",
       " 'd1_spo2_max',\n",
       " 'd1_spo2_min',\n",
       " 'd1_sysbp_max',\n",
       " 'd1_sysbp_min',\n",
       " 'd1_sysbp_noninvasive_max',\n",
       " 'd1_sysbp_noninvasive_min',\n",
       " 'd1_temp_max',\n",
       " 'd1_temp_min',\n",
       " 'h1_diasbp_max',\n",
       " 'h1_diasbp_min',\n",
       " 'h1_diasbp_noninvasive_max',\n",
       " 'h1_diasbp_noninvasive_min',\n",
       " 'h1_heartrate_max',\n",
       " 'h1_heartrate_min',\n",
       " 'h1_mbp_max',\n",
       " 'h1_mbp_min',\n",
       " 'h1_mbp_noninvasive_max',\n",
       " 'h1_mbp_noninvasive_min',\n",
       " 'h1_resprate_max',\n",
       " 'h1_resprate_min',\n",
       " 'h1_spo2_max',\n",
       " 'h1_spo2_min',\n",
       " 'h1_sysbp_max',\n",
       " 'h1_sysbp_min',\n",
       " 'h1_sysbp_noninvasive_max',\n",
       " 'h1_sysbp_noninvasive_min',\n",
       " 'd1_glucose_max',\n",
       " 'd1_glucose_min',\n",
       " 'd1_potassium_max',\n",
       " 'd1_potassium_min',\n",
       " 'apache_4a_hospital_death_prob',\n",
       " 'apache_4a_icu_death_prob',\n",
       " 'aids',\n",
       " 'cirrhosis',\n",
       " 'diabetes_mellitus',\n",
       " 'hepatic_failure',\n",
       " 'immunosuppression',\n",
       " 'leukemia',\n",
       " 'lymphoma',\n",
       " 'solid_tumor_with_metastasis',\n",
       " 'apache_3j_bodysystem',\n",
       " 'apache_2_bodysystem',\n",
       " 'Unnamed: 83']"
      ]
     },
     "execution_count": 9,
     "metadata": {},
     "output_type": "execute_result"
    }
   ],
   "source": [
    "null_value_column(df)"
   ]
  },
  {
   "cell_type": "code",
   "execution_count": 10,
   "id": "f8c51a6b-3d28-4f34-b26b-a25311c22f5a",
   "metadata": {},
   "outputs": [],
   "source": [
    "'''There exists a column that is unnamed so we don't know about the data.\n",
    "So I am planning to drop it'''\n",
    "unnamed_cols = df.columns[df.columns.str.contains('Unnamed')]\n",
    "df.drop(unnamed_cols, axis=1, inplace=True)"
   ]
  },
  {
   "cell_type": "code",
   "execution_count": 11,
   "id": "bc2229ed-9e84-439f-957a-3df3dd1f15c3",
   "metadata": {},
   "outputs": [],
   "source": [
    "'''There are some columns which are not of that much use when we want to predict the Survival Rate,so dropping them at once'''\n",
    "df.drop(['ethnicity', 'icu_admit_source', 'icu_id', 'icu_stay_type', 'icu_type', 'encounter_id', 'patient_id', 'hospital_id'], inplace=True, axis=1)"
   ]
  },
  {
   "cell_type": "code",
   "execution_count": 12,
   "id": "25987bd2-ed17-43a7-bd80-68ae89878989",
   "metadata": {},
   "outputs": [],
   "source": [
    "# Seeing the percentage of missing values in each column and storing it in a dictionary:\n",
    "def percentage_of_missing_values(A):\n",
    "    num_rows = A.shape[0]\n",
    "    results = {}\n",
    "    for col in A.columns:\n",
    "        null_count = A[col].isnull().sum()\n",
    "        if null_count > 0:\n",
    "            percentage = (null_count / num_rows) * 100\n",
    "            final_percentage = round(percentage,2)\n",
    "            results[col] = final_percentage\n",
    "    return results\n",
    "\n"
   ]
  },
  {
   "cell_type": "code",
   "execution_count": 13,
   "id": "09bc41eb-d7a1-48ee-9f77-b501f05615b8",
   "metadata": {},
   "outputs": [
    {
     "name": "stdout",
     "output_type": "stream",
     "text": [
      "{'age': np.float64(4.61), 'bmi': np.float64(3.74), 'gender': np.float64(0.03), 'height': np.float64(1.45), 'weight': np.float64(2.97), 'apache_2_diagnosis': np.float64(1.81), 'apache_3j_diagnosis': np.float64(1.2), 'arf_apache': np.float64(0.78), 'gcs_eyes_apache': np.float64(2.07), 'gcs_motor_apache': np.float64(2.07), 'gcs_unable_apache': np.float64(1.13), 'gcs_verbal_apache': np.float64(2.07), 'heart_rate_apache': np.float64(0.96), 'intubated_apache': np.float64(0.78), 'map_apache': np.float64(1.08), 'resprate_apache': np.float64(1.35), 'temp_apache': np.float64(4.48), 'ventilated_apache': np.float64(0.78), 'd1_diasbp_max': np.float64(0.18), 'd1_diasbp_min': np.float64(0.18), 'd1_diasbp_noninvasive_max': np.float64(1.13), 'd1_diasbp_noninvasive_min': np.float64(1.13), 'd1_heartrate_max': np.float64(0.16), 'd1_heartrate_min': np.float64(0.16), 'd1_mbp_max': np.float64(0.24), 'd1_mbp_min': np.float64(0.24), 'd1_mbp_noninvasive_max': np.float64(1.61), 'd1_mbp_noninvasive_min': np.float64(1.61), 'd1_resprate_max': np.float64(0.42), 'd1_resprate_min': np.float64(0.42), 'd1_spo2_max': np.float64(0.36), 'd1_spo2_min': np.float64(0.36), 'd1_sysbp_max': np.float64(0.17), 'd1_sysbp_min': np.float64(0.17), 'd1_sysbp_noninvasive_max': np.float64(1.12), 'd1_sysbp_noninvasive_min': np.float64(1.12), 'd1_temp_max': np.float64(2.53), 'd1_temp_min': np.float64(2.53), 'h1_diasbp_max': np.float64(3.95), 'h1_diasbp_min': np.float64(3.95), 'h1_diasbp_noninvasive_max': np.float64(8.01), 'h1_diasbp_noninvasive_min': np.float64(8.01), 'h1_heartrate_max': np.float64(3.04), 'h1_heartrate_min': np.float64(3.04), 'h1_mbp_max': np.float64(5.06), 'h1_mbp_min': np.float64(5.06), 'h1_mbp_noninvasive_max': np.float64(9.9), 'h1_mbp_noninvasive_min': np.float64(9.9), 'h1_resprate_max': np.float64(4.75), 'h1_resprate_min': np.float64(4.75), 'h1_spo2_max': np.float64(4.56), 'h1_spo2_min': np.float64(4.56), 'h1_sysbp_max': np.float64(3.94), 'h1_sysbp_min': np.float64(3.94), 'h1_sysbp_noninvasive_max': np.float64(8.0), 'h1_sysbp_noninvasive_min': np.float64(8.0), 'd1_glucose_max': np.float64(6.33), 'd1_glucose_min': np.float64(6.33), 'd1_potassium_max': np.float64(10.45), 'd1_potassium_min': np.float64(10.45), 'apache_4a_hospital_death_prob': np.float64(8.67), 'apache_4a_icu_death_prob': np.float64(8.67), 'aids': np.float64(0.78), 'cirrhosis': np.float64(0.78), 'diabetes_mellitus': np.float64(0.78), 'hepatic_failure': np.float64(0.78), 'immunosuppression': np.float64(0.78), 'leukemia': np.float64(0.78), 'lymphoma': np.float64(0.78), 'solid_tumor_with_metastasis': np.float64(0.78), 'apache_3j_bodysystem': np.float64(1.81), 'apache_2_bodysystem': np.float64(1.81)}\n"
     ]
    }
   ],
   "source": [
    "missing_percent = percentage_of_missing_values(df)\n",
    "print(missing_percent)"
   ]
  },
  {
   "cell_type": "code",
   "execution_count": 14,
   "id": "3b44f08a-8c29-4d62-b3b7-b63d8245ce26",
   "metadata": {},
   "outputs": [
    {
     "name": "stdout",
     "output_type": "stream",
     "text": [
      "The minimum value is 0.03, appearing in columns: gender.\n",
      "The maximum value is 10.45, appearing in columns: d1_potassium_max, d1_potassium_min.\n"
     ]
    }
   ],
   "source": [
    "# Min and Max values in the dict.\n",
    "import numpy as np\n",
    "min_val = min(missing_percent.values())\n",
    "max_val = max(missing_percent.values())\n",
    "\n",
    "# Finding all columns with min/max\n",
    "min_cols = [col for col, val in missing_percent.items() if val == min_val]\n",
    "max_cols = [col for col, val in missing_percent.items() if val == max_val]\n",
    "\n",
    "print(f\"The minimum value is {min_val}, appearing in columns: {', '.join(min_cols)}.\")\n",
    "print(f\"The maximum value is {max_val}, appearing in columns: {', '.join(max_cols)}.\")\n"
   ]
  },
  {
   "cell_type": "code",
   "execution_count": 15,
   "id": "7d607920-64d0-4fc1-9db4-9050ee72dab5",
   "metadata": {},
   "outputs": [
    {
     "data": {
      "text/plain": [
       "\"There are not much missing values so we can imputate the data with it's mean or can simply drop it.-->\\nSo the plan is to make 2 seperate datasets -->\\n1. Dropped Values.\\n2. Imputation with its mean,mode for objects or strings\""
      ]
     },
     "execution_count": 15,
     "metadata": {},
     "output_type": "execute_result"
    }
   ],
   "source": [
    "'''There are not much missing values so we can imputate the data with it's mean or can simply drop it.-->\n",
    "So the plan is to make 2 seperate datasets -->\n",
    "1. Dropped Values.\n",
    "2. Imputation with its mean,mode for objects or strings'''\n",
    "\n"
   ]
  },
  {
   "cell_type": "code",
   "execution_count": 16,
   "id": "f8a2aad8-f04b-45fe-93c3-4d2b1eefcdc7",
   "metadata": {},
   "outputs": [],
   "source": [
    "df_dropped_values = df.copy()\n",
    "df_imputated_values = df.copy()"
   ]
  },
  {
   "cell_type": "code",
   "execution_count": 17,
   "id": "72d196a3-1027-4d8e-af66-68b021cc2cb2",
   "metadata": {},
   "outputs": [],
   "source": [
    "#Imputation with the mean for int,float types and mode for string types.\n",
    "def imputation(A):\n",
    "    for col in A.columns:\n",
    "        if A[col].dtype in ['int64', 'float64']:\n",
    "            A[col] = A[col].fillna(A[col].mean())\n",
    "        else:\n",
    "            A[col] = A[col].fillna(A[col].mode()[0])\n",
    "    return A\n",
    "\n"
   ]
  },
  {
   "cell_type": "code",
   "execution_count": 18,
   "id": "595d1046-0a18-4406-8808-7f234f41ce9c",
   "metadata": {},
   "outputs": [],
   "source": [
    "imputation(df_imputated_values)\n",
    "df_imputated_values.to_csv('df_imputated_values.csv',index=False)"
   ]
  },
  {
   "cell_type": "code",
   "execution_count": 19,
   "id": "27512f0c-3512-43e5-bdbe-8428d9ede599",
   "metadata": {},
   "outputs": [
    {
     "data": {
      "text/plain": [
       "(91713, 76)"
      ]
     },
     "execution_count": 19,
     "metadata": {},
     "output_type": "execute_result"
    }
   ],
   "source": [
    "df_imputated_values.shape"
   ]
  },
  {
   "cell_type": "code",
   "execution_count": 20,
   "id": "f07192a8-dac0-4a52-8b6b-cd6ebd57f9b5",
   "metadata": {},
   "outputs": [],
   "source": [
    "#Dropping the values.\n",
    "df_dropped_values = df_dropped_values.dropna()"
   ]
  },
  {
   "cell_type": "code",
   "execution_count": 22,
   "id": "dd82df0e-88e4-45bc-9870-e6f4c0ed48af",
   "metadata": {},
   "outputs": [
    {
     "data": {
      "text/plain": [
       "(57596, 76)"
      ]
     },
     "execution_count": 22,
     "metadata": {},
     "output_type": "execute_result"
    }
   ],
   "source": [
    "df_dropped_values.shape"
   ]
  },
  {
   "cell_type": "code",
   "execution_count": 27,
   "id": "dddd648b-f68e-445b-9aca-fba14127100c",
   "metadata": {},
   "outputs": [],
   "source": [
    "#One Hot encoding\n",
    "categorical_cols = df_dropped_values.select_dtypes(include='object').columns\n",
    "df_dropped_values = pd.get_dummies(df_dropped_values, columns=categorical_cols)\n",
    "\n",
    "categorical_cols = df_imputated_values.select_dtypes(include='object').columns\n",
    "df_imputated_values = pd.get_dummies(df_imputated_values, columns=categorical_cols)\n",
    "\n"
   ]
  },
  {
   "cell_type": "code",
   "execution_count": 29,
   "id": "ff305fe6-e615-43cf-942d-1aa59c624008",
   "metadata": {},
   "outputs": [],
   "source": [
    "#Saving the dataframes.\n",
    "df_dropped_values.to_csv('df_dropped_values.csv',index=False)\n",
    "df_imputated_values.to_csv('df_imputated_values.csv',index=False)"
   ]
  },
  {
   "cell_type": "code",
   "execution_count": null,
   "id": "d88bd8df-2a1b-4538-bf32-433520c55e50",
   "metadata": {},
   "outputs": [],
   "source": []
  }
 ],
 "metadata": {
  "kernelspec": {
   "display_name": "Python 3 (ipykernel)",
   "language": "python",
   "name": "python3"
  },
  "language_info": {
   "codemirror_mode": {
    "name": "ipython",
    "version": 3
   },
   "file_extension": ".py",
   "mimetype": "text/x-python",
   "name": "python",
   "nbconvert_exporter": "python",
   "pygments_lexer": "ipython3",
   "version": "3.13.3"
  }
 },
 "nbformat": 4,
 "nbformat_minor": 5
}
